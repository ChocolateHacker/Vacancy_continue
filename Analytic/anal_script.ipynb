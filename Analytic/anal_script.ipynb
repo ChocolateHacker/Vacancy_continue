{
 "cells": [
  {
   "cell_type": "markdown",
   "id": "d06be7d3",
   "metadata": {},
   "source": [
    "Импортируем нужные модули:"
   ]
  },
  {
   "cell_type": "markdown",
   "id": "32573ebe",
   "metadata": {},
   "source": [
    "Pandas - для обработки таблиц  \n",
    "CSV - для открытия csv таблиц  \n",
    "literal_eval - для конвертации txt файлов, в словари Python  "
   ]
  },
  {
   "cell_type": "code",
   "execution_count": 20,
   "id": "e06fbd27",
   "metadata": {},
   "outputs": [],
   "source": [
    "import pandas as pd\n",
    "import csv\n",
    "from ast import literal_eval"
   ]
  },
  {
   "cell_type": "markdown",
   "id": "a152e8b5",
   "metadata": {},
   "source": [
    "Открываем базу"
   ]
  },
  {
   "cell_type": "code",
   "execution_count": 2,
   "id": "be7908f1",
   "metadata": {},
   "outputs": [
    {
     "name": "stderr",
     "output_type": "stream",
     "text": [
      "C:\\Users\\BoilingMachine\\anaconda3\\lib\\site-packages\\IPython\\core\\interactiveshell.py:3165: DtypeWarning: Columns (27) have mixed types.Specify dtype option on import or set low_memory=False.\n",
      "  has_raised = await self.run_ast_nodes(code_ast.body, cell_name,\n",
      "C:\\Users\\BoilingMachine\\anaconda3\\lib\\site-packages\\IPython\\core\\interactiveshell.py:3165: DtypeWarning: Columns (15) have mixed types.Specify dtype option on import or set low_memory=False.\n",
      "  has_raised = await self.run_ast_nodes(code_ast.body, cell_name,\n"
     ]
    }
   ],
   "source": [
    "df2021 = pandas.read_csv(\"year_2021.csv\")\n",
    "df2020 = pandas.read_csv(\"year_2020.csv\")\n",
    "df2019 = pandas.read_csv(\"year_2019.csv\")\n",
    "df2018 = pandas.read_csv(\"year_2018.csv\")\n",
    "df2017 = pandas.read_csv(\"year_2017.csv\")\n",
    "df2016 = pandas.read_csv(\"year_2016.csv\")\n",
    "#df = pandas.read_csv(\"year_2021.csv\")[[\"name\", \"description\"]].to_csv(\"year_2021_cut.csv\")\n",
    "#Если нету базы, выполни строчку выше и будет тебе счастье"
   ]
  },
  {
   "cell_type": "markdown",
   "id": "0fb33088",
   "metadata": {},
   "source": [
    "Оставляем колонки с названием вакансий и их описанием"
   ]
  },
  {
   "cell_type": "code",
   "execution_count": 3,
   "id": "7675b15d",
   "metadata": {},
   "outputs": [],
   "source": [
    "data2021_desc = df2021[[\"name\", \"description\"]]\n",
    "data2020_desc = df2020[[\"name\", \"description\"]]\n",
    "data2019_desc = df2019[[\"name\", \"description\"]]\n",
    "data2018_desc = df2018[[\"name\", \"description\"]]\n",
    "data2017_desc = df2017[[\"name\", \"description\"]]\n",
    "data2016_desc = df2016[[\"name\", \"description\"]]"
   ]
  },
  {
   "cell_type": "code",
   "execution_count": 4,
   "id": "c4e78630",
   "metadata": {},
   "outputs": [],
   "source": [
    "data2021_skills = df2021[[\"name\", \"key_skills\"]]\n",
    "data2020_skills = df2020[[\"name\", \"key_skills\"]]\n",
    "data2019_skills = df2019[[\"name\", \"key_skills\"]]\n",
    "data2018_skills = df2018[[\"name\", \"key_skills\"]]\n",
    "data2017_skills = df2017[[\"name\", \"key_skills\"]]\n",
    "data2016_skills = df2016[[\"name\", \"key_skills\"]]"
   ]
  },
  {
   "cell_type": "code",
   "execution_count": 5,
   "id": "c01277e9",
   "metadata": {},
   "outputs": [],
   "source": [
    "data2021_skills_desc = df2021[[\"name\", \"key_skills\", \"description\"]]\n",
    "data2020_skills_desc = df2020[[\"name\", \"key_skills\", \"description\"]]\n",
    "data2019_skills_desc = df2019[[\"name\", \"key_skills\", \"description\"]]\n",
    "data2018_skills_desc = df2018[[\"name\", \"key_skills\", \"description\"]]\n",
    "data2017_skills_desc = df2017[[\"name\", \"key_skills\", \"description\"]]\n",
    "data2016_skills_desc = df2016[[\"name\", \"key_skills\", \"description\"]]"
   ]
  },
  {
   "cell_type": "markdown",
   "id": "2d0ceb37",
   "metadata": {},
   "source": [
    "Код, обрабатывающий базу за определенный год, путем поиска совпадений в базе синонимов"
   ]
  },
  {
   "cell_type": "code",
   "execution_count": 8,
   "id": "4249fa3f",
   "metadata": {},
   "outputs": [
    {
     "name": "stdout",
     "output_type": "stream",
     "text": [
      "['Базы данных 120891\\n', 'HTML 23264\\n', 'CSS 20522\\n', 'JavaScript 62099\\n', 'Apple 4740\\n', 'Бизнес-логика 3298\\n', 'Контроль версий 52527\\n', 'PHP 22974\\n', 'Basic 1105\\n', 'Java 41569\\n', 'C++ 217152\\n', 'C# 20236\\n', 'Python 32690\\n', 'Конвертация 16398\\n', 'Мобилки 6412\\n', 'Пакеты Office 4882\\n', 'Go 33884\\n', 'Управление проектами 28133\\n', '1C 4411\\n', 'API-Архитектура 51980\\n', 'Языки 32132\\n', 'Аналитика 4594\\n', 'Операционные системы 65862\\n', 'Дизайн 71443\\n', 'Тестирование 370\\n', 'Языки разметки 12329\\n', 'CRM 6138\\n', 'Облачные платформы 11943\\n']\n",
      "[120891, 23264, 20522, 62099, 4740, 3298, 52527, 22974, 1105, 41569, 217152, 20236, 32690, 16398, 6412, 4882, 33884, 28133, 4411, 51980, 32132, 4594, 65862, 71443, 370, 12329, 6138, 11943]\n"
     ]
    }
   ],
   "source": [
    "value = []\n",
    "value_counter = []\n",
    "data = literal_eval(open(\"tools_synonims.txt\", \"r\", encoding='utf-8').read())\n",
    "for key in data.keys():\n",
    "    counter = 0\n",
    "    with open(\"year_2021_cut.csv\", encoding='utf-8') as r_file:\n",
    "        for row in csv.reader(r_file):\n",
    "            for i in data.get(key):\n",
    "                for j in row:\n",
    "                    if i.lower() in j.lower():\n",
    "                        counter += 1\n",
    "    value.append(f'{key} {counter}')\n",
    "    value_counter.append(counter)\n",
    "print(value)\n",
    "print(value_counter)\n",
    "#Надо проверить корректность кода"
   ]
  },
  {
   "cell_type": "code",
   "execution_count": 18,
   "id": "01e6c43a",
   "metadata": {},
   "outputs": [
    {
     "data": {
      "text/html": [
       "<div>\n",
       "<style scoped>\n",
       "    .dataframe tbody tr th:only-of-type {\n",
       "        vertical-align: middle;\n",
       "    }\n",
       "\n",
       "    .dataframe tbody tr th {\n",
       "        vertical-align: top;\n",
       "    }\n",
       "\n",
       "    .dataframe thead th {\n",
       "        text-align: right;\n",
       "    }\n",
       "</style>\n",
       "<table border=\"1\" class=\"dataframe\">\n",
       "  <thead>\n",
       "    <tr style=\"text-align: right;\">\n",
       "      <th></th>\n",
       "      <th>name</th>\n",
       "      <th>key_skills</th>\n",
       "    </tr>\n",
       "  </thead>\n",
       "  <tbody>\n",
       "    <tr>\n",
       "      <th>0</th>\n",
       "      <td>PHP Веб-разработчик Bitrix24</td>\n",
       "      <td>PHP\\nBackend\\nWEB\\nБитрикс24\\nБитрикс\\nBitrix ...</td>\n",
       "    </tr>\n",
       "    <tr>\n",
       "      <th>1</th>\n",
       "      <td>Инженер-программист</td>\n",
       "      <td>1С: Предприятие 8\\nПользователь ПК\\nУмение раб...</td>\n",
       "    </tr>\n",
       "    <tr>\n",
       "      <th>2</th>\n",
       "      <td>Ведущий специалист (Отдел технического обслужи...</td>\n",
       "      <td>Сборка ПК\\nРемонт ПК\\nНастройка ПК\\nНастройка ПО</td>\n",
       "    </tr>\n",
       "    <tr>\n",
       "      <th>3</th>\n",
       "      <td>Разработчик ETL</td>\n",
       "      <td>NaN</td>\n",
       "    </tr>\n",
       "    <tr>\n",
       "      <th>4</th>\n",
       "      <td>PHP разработчик / PHP Developer (удаленно)</td>\n",
       "      <td>Git\\nHTML\\nCSS\\nPHP\\nMySQL\\nAjax\\nJavaScript</td>\n",
       "    </tr>\n",
       "    <tr>\n",
       "      <th>...</th>\n",
       "      <td>...</td>\n",
       "      <td>...</td>\n",
       "    </tr>\n",
       "    <tr>\n",
       "      <th>229090</th>\n",
       "      <td>Аналитик CRM системы</td>\n",
       "      <td>Оптимизация бизнес-процессов\\nМоделирование би...</td>\n",
       "    </tr>\n",
       "    <tr>\n",
       "      <th>229091</th>\n",
       "      <td>Руководитель интернет-магазина (e-commerce, fa...</td>\n",
       "      <td>Управленческая отчетность\\nПостановка задач ра...</td>\n",
       "    </tr>\n",
       "    <tr>\n",
       "      <th>229092</th>\n",
       "      <td>Оператор технической поддержки</td>\n",
       "      <td>Консультирование\\nПользователь ПК\\nГрамотная р...</td>\n",
       "    </tr>\n",
       "    <tr>\n",
       "      <th>229093</th>\n",
       "      <td>Инсталлятор</td>\n",
       "      <td>Пользователь ПК\\nРабота в команде\\nГрамотная р...</td>\n",
       "    </tr>\n",
       "    <tr>\n",
       "      <th>229094</th>\n",
       "      <td>ИТ ДИРЕКТОР ( Логистический стартап федерально...</td>\n",
       "      <td>Управление проектами\\nУправление персоналом\\nП...</td>\n",
       "    </tr>\n",
       "  </tbody>\n",
       "</table>\n",
       "<p>229095 rows × 2 columns</p>\n",
       "</div>"
      ],
      "text/plain": [
       "                                                     name  \\\n",
       "0                            PHP Веб-разработчик Bitrix24   \n",
       "1                                     Инженер-программист   \n",
       "2       Ведущий специалист (Отдел технического обслужи...   \n",
       "3                                         Разработчик ETL   \n",
       "4              PHP разработчик / PHP Developer (удаленно)   \n",
       "...                                                   ...   \n",
       "229090                               Аналитик CRM системы   \n",
       "229091  Руководитель интернет-магазина (e-commerce, fa...   \n",
       "229092                     Оператор технической поддержки   \n",
       "229093                                        Инсталлятор   \n",
       "229094  ИТ ДИРЕКТОР ( Логистический стартап федерально...   \n",
       "\n",
       "                                               key_skills  \n",
       "0       PHP\\nBackend\\nWEB\\nБитрикс24\\nБитрикс\\nBitrix ...  \n",
       "1       1С: Предприятие 8\\nПользователь ПК\\nУмение раб...  \n",
       "2        Сборка ПК\\nРемонт ПК\\nНастройка ПК\\nНастройка ПО  \n",
       "3                                                     NaN  \n",
       "4            Git\\nHTML\\nCSS\\nPHP\\nMySQL\\nAjax\\nJavaScript  \n",
       "...                                                   ...  \n",
       "229090  Оптимизация бизнес-процессов\\nМоделирование би...  \n",
       "229091  Управленческая отчетность\\nПостановка задач ра...  \n",
       "229092  Консультирование\\nПользователь ПК\\nГрамотная р...  \n",
       "229093  Пользователь ПК\\nРабота в команде\\nГрамотная р...  \n",
       "229094  Управление проектами\\nУправление персоналом\\nП...  \n",
       "\n",
       "[229095 rows x 2 columns]"
      ]
     },
     "execution_count": 18,
     "metadata": {},
     "output_type": "execute_result"
    }
   ],
   "source": [
    "df2021[[\"name\", \"key_skills\"]]"
   ]
  },
  {
   "cell_type": "code",
   "execution_count": 25,
   "id": "40402a5a",
   "metadata": {},
   "outputs": [
    {
     "name": "stdout",
     "output_type": "stream",
     "text": [
      "                                       Группа  \\\n",
      "0                                 Программист   \n",
      "1                                         ERP   \n",
      "2                     Системный администратор   \n",
      "3                                         Веб   \n",
      "4                                    Аналитик   \n",
      "5                     Специалист техподдержки   \n",
      "6              Системный инженер и QA-инженер   \n",
      "7                                     Инженер   \n",
      "8                          Mobile разработчик   \n",
      "9                                      Devops   \n",
      "10                             UX/UI дизайнер   \n",
      "11                               Руководитель   \n",
      "12                              IT-специалист   \n",
      "13  Специалист по информационной безопасности   \n",
      "14                                    GameDev   \n",
      "15                             Data Scientist   \n",
      "16                   Администратор баз данных   \n",
      "17                      Системный программист   \n",
      "\n",
      "                                   Название(синонимы)  \n",
      "0   [программист, инженер-программист, frontend-ра...  \n",
      "1   [программист 1с, разработчик 1с, программист-р...  \n",
      "2   [администратор средств разработки, сисадмин, с...  \n",
      "3   [web разработчик, web-разработчик, веб-разрабо...  \n",
      "4   [аналитик проекта, проектный аналитик, аналити...  \n",
      "5   [специалист технической поддержки, инженер тех...  \n",
      "6   [qa, quality assurance, qa-инженер, qa enginee...  \n",
      "7   [инженер, инженер-проектировщик, ведущий инжен...  \n",
      "8   [mobile разработчик, mobile-разработчик, andro...  \n",
      "9   [devops specialist, devops-инженер, инженер de...  \n",
      "10  [дизайнер интерфейсов, дизайнер пользовательск...  \n",
      "11  [руководитель интернет-магазина, технический д...  \n",
      "12  [it-специалист, специалист по it, ит-специалис...  \n",
      "13  [специалист по информационной безопасности, сп...  \n",
      "14  [unity developer, game developer, gamedev, раз...  \n",
      "15  [data scientist, data scientists, data science...  \n",
      "16  [database administrator, администратор баз дан...  \n",
      "17  [системный программист, программист систем, ин...  \n"
     ]
    }
   ],
   "source": [
    "value = []\n",
    "value_counter = []\n",
    "rabota = literal_eval(open(\"vacancy_synonims.txt\", \"r\", encoding='utf-8').read())\n",
    "instrument = literal_eval(open(\"tools_synonims.txt\", \"r\", encoding='utf-8').read())\n",
    "Df_instr = pd.DataFrame(list(instrument.items()),\n",
    "                   columns=['Группа инст', 'Названия'])\n",
    "Df_rabota = pd.DataFrame(list(rabota.items()),\n",
    "                   columns=['Группа вак', 'Название(синонимы)'])\n",
    "# for key_rab in rabota.keys():\n",
    "#     for i in rabota.get(key_rab):\n",
    "#         for key_inst in instrument.keys():\n",
    "#             for j in instrument.get(key_inst):\n",
    "#                 if df2021['name'] == i:\n",
    "#                     if df2021['key_skills'] == j:\n",
    "#                         counter += 1\n",
    "#         value.append(f'{key_inst}, {counter}')\n",
    "#     print(value)  \n",
    "# \n",
    "# \n",
    "# # with open(\"year_2021_cut.csv\", encoding='utf-8') as r_file:\n",
    "#     counter = 0\n",
    "#     for row in csv.reader(r_file):\n",
    "#         for key_rab in rabota.keys():\n",
    "#             for i in rabota.get(key_rab):\n",
    "#                 if i == row:\n",
    "#                     for key_inst in instrument.keys():\n",
    "#                         for j in instrument.get(key_inst):\n",
    "#                             if j == row:\n",
    "#                                 counter += 1   \n",
    "#  "
   ]
  },
  {
   "cell_type": "code",
   "execution_count": null,
   "id": "49b3c008",
   "metadata": {},
   "outputs": [],
   "source": []
  }
 ],
 "metadata": {
  "kernelspec": {
   "display_name": "Python 3",
   "language": "python",
   "name": "python3"
  },
  "language_info": {
   "codemirror_mode": {
    "name": "ipython",
    "version": 3
   },
   "file_extension": ".py",
   "mimetype": "text/x-python",
   "name": "python",
   "nbconvert_exporter": "python",
   "pygments_lexer": "ipython3",
   "version": "3.8.8"
  }
 },
 "nbformat": 4,
 "nbformat_minor": 5
}
