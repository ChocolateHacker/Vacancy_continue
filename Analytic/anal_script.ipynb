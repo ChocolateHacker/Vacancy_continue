{
 "cells": [
  {
   "cell_type": "markdown",
   "id": "d06be7d3",
   "metadata": {},
   "source": [
    "Импортируем нужные модули:"
   ]
  },
  {
   "cell_type": "markdown",
   "id": "32573ebe",
   "metadata": {},
   "source": [
    "Pandas - для обработки таблиц  \n",
    "CSV - для открытия csv таблиц  \n",
    "literal_eval - для конвертации txt файлов, в словари Python  "
   ]
  },
  {
   "cell_type": "code",
   "execution_count": 1,
   "id": "e06fbd27",
   "metadata": {},
   "outputs": [],
   "source": [
    "import pandas\n",
    "import csv\n",
    "from ast import literal_eval"
   ]
  },
  {
   "cell_type": "markdown",
   "id": "a152e8b5",
   "metadata": {},
   "source": [
    "Открываем базу"
   ]
  },
  {
   "cell_type": "code",
   "execution_count": 2,
   "id": "be7908f1",
   "metadata": {},
   "outputs": [
    {
     "name": "stderr",
     "output_type": "stream",
     "text": [
      "C:\\Users\\BoilingMachine\\anaconda3\\lib\\site-packages\\IPython\\core\\interactiveshell.py:3165: DtypeWarning: Columns (27) have mixed types.Specify dtype option on import or set low_memory=False.\n",
      "  has_raised = await self.run_ast_nodes(code_ast.body, cell_name,\n",
      "C:\\Users\\BoilingMachine\\anaconda3\\lib\\site-packages\\IPython\\core\\interactiveshell.py:3165: DtypeWarning: Columns (15) have mixed types.Specify dtype option on import or set low_memory=False.\n",
      "  has_raised = await self.run_ast_nodes(code_ast.body, cell_name,\n"
     ]
    }
   ],
   "source": [
    "df2021 = pandas.read_csv(\"year_2021.csv\")\n",
    "df2020 = pandas.read_csv(\"year_2020.csv\")\n",
    "df2019 = pandas.read_csv(\"year_2019.csv\")\n",
    "df2018 = pandas.read_csv(\"year_2018.csv\")\n",
    "df2017 = pandas.read_csv(\"year_2017.csv\")\n",
    "df2016 = pandas.read_csv(\"year_2016.csv\")\n",
    "#df = pandas.read_csv(\"year_2021.csv\")[[\"name\", \"description\"]].to_csv(\"year_2021_cut.csv\")\n",
    "#Если нету базы, выполни строчку выше и будет тебе счастье"
   ]
  },
  {
   "cell_type": "markdown",
   "id": "0fb33088",
   "metadata": {},
   "source": [
    "Оставляем колонки с названием вакансий и их описанием"
   ]
  },
  {
   "cell_type": "code",
   "execution_count": 10,
   "id": "7675b15d",
   "metadata": {},
   "outputs": [],
   "source": [
    "data2021_desc = df2021[[\"name\", \"description\"]]\n",
    "data2020_desc = df2020[[\"name\", \"description\"]]\n",
    "data2019_desc = df2019[[\"name\", \"description\"]]\n",
    "data2018_desc = df2018[[\"name\", \"description\"]]\n",
    "data2017_desc = df2017[[\"name\", \"description\"]]\n",
    "data2016_desc = df2016[[\"name\", \"description\"]]"
   ]
  },
  {
   "cell_type": "code",
   "execution_count": 9,
   "id": "c4e78630",
   "metadata": {},
   "outputs": [],
   "source": [
    "data2021_skills = df2021[[\"name\", \"key_skills\"]]\n",
    "data2020_skills = df2020[[\"name\", \"key_skills\"]]\n",
    "data2019_skills = df2019[[\"name\", \"key_skills\"]]\n",
    "data2018_skills = df2018[[\"name\", \"key_skills\"]]\n",
    "data2017_skills = df2017[[\"name\", \"key_skills\"]]\n",
    "data2016_skills = df2016[[\"name\", \"key_skills\"]]"
   ]
  },
  {
   "cell_type": "markdown",
   "id": "2d0ceb37",
   "metadata": {},
   "source": [
    "Код, обрабатывающий базу за определенный год, путем поиска совпадений в базе синонимов"
   ]
  },
  {
   "cell_type": "code",
   "execution_count": 8,
   "id": "4249fa3f",
   "metadata": {},
   "outputs": [
    {
     "name": "stdout",
     "output_type": "stream",
     "text": [
      "['Базы данных 120891\\n', 'HTML 23264\\n', 'CSS 20522\\n', 'JavaScript 62099\\n', 'Apple 4740\\n', 'Бизнес-логика 3298\\n', 'Контроль версий 52527\\n', 'PHP 22974\\n', 'Basic 1105\\n', 'Java 41569\\n', 'C++ 217152\\n', 'C# 20236\\n', 'Python 32690\\n', 'Конвертация 16398\\n', 'Мобилки 6412\\n', 'Пакеты Office 4882\\n', 'Go 33884\\n', 'Управление проектами 28133\\n', '1C 4411\\n', 'API-Архитектура 51980\\n', 'Языки 32132\\n', 'Аналитика 4594\\n', 'Операционные системы 65862\\n', 'Дизайн 71443\\n', 'Тестирование 370\\n', 'Языки разметки 12329\\n', 'CRM 6138\\n', 'Облачные платформы 11943\\n']\n",
      "[120891, 23264, 20522, 62099, 4740, 3298, 52527, 22974, 1105, 41569, 217152, 20236, 32690, 16398, 6412, 4882, 33884, 28133, 4411, 51980, 32132, 4594, 65862, 71443, 370, 12329, 6138, 11943]\n"
     ]
    }
   ],
   "source": [
    "value = []\n",
    "value_counter = []\n",
    "data = literal_eval(open(\"tools_synonims.txt\", \"r\", encoding='utf-8').read())\n",
    "for key in data.keys():\n",
    "    counter = 0\n",
    "    with open(\"year_2021_cut.csv\", encoding='utf-8') as r_file:\n",
    "        for row in csv.reader(r_file):\n",
    "            for i in data.get(key):\n",
    "                for j in row:\n",
    "                    if i.lower() in j.lower():\n",
    "                        counter += 1\n",
    "    value.append(f'{key} {counter}')\n",
    "    value_counter.append(counter)\n",
    "print(value)\n",
    "print(value_counter)\n",
    "#Надо проверить корректность кода"
   ]
  }
 ],
 "metadata": {
  "kernelspec": {
   "display_name": "Python 3",
   "language": "python",
   "name": "python3"
  },
  "language_info": {
   "codemirror_mode": {
    "name": "ipython",
    "version": 3
   },
   "file_extension": ".py",
   "mimetype": "text/x-python",
   "name": "python",
   "nbconvert_exporter": "python",
   "pygments_lexer": "ipython3",
   "version": "3.8.8"
  }
 },
 "nbformat": 4,
 "nbformat_minor": 5
}
