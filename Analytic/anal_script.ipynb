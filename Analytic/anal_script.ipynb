{
 "cells": [
  {
   "cell_type": "markdown",
   "id": "d06be7d3",
   "metadata": {},
   "source": [
    "Импортируем нужные модули:"
   ]
  },
  {
   "cell_type": "markdown",
   "id": "32573ebe",
   "metadata": {},
   "source": [
    "Pandas - для обработки таблиц  \n",
    "CSV - для открытия csv таблиц  \n",
    "literal_eval - для конвертации txt файлов, в словари Python  "
   ]
  },
  {
   "cell_type": "code",
   "execution_count": 1,
   "id": "e06fbd27",
   "metadata": {},
   "outputs": [],
   "source": [
    "import pandas\n",
    "import csv\n",
    "from ast import literal_eval"
   ]
  },
  {
   "cell_type": "markdown",
   "id": "a152e8b5",
   "metadata": {},
   "source": [
    "Открываем базу"
   ]
  },
  {
   "cell_type": "code",
   "execution_count": 2,
   "id": "be7908f1",
   "metadata": {},
   "outputs": [
    {
     "name": "stderr",
     "output_type": "stream",
     "text": [
      "C:\\Users\\BoilingMachine\\anaconda3\\lib\\site-packages\\IPython\\core\\interactiveshell.py:3165: DtypeWarning: Columns (27) have mixed types.Specify dtype option on import or set low_memory=False.\n",
      "  has_raised = await self.run_ast_nodes(code_ast.body, cell_name,\n"
     ]
    }
   ],
   "source": [
    "df = pandas.read_csv(\"year_2021.csv\")\n",
    "#df = pandas.read_csv(\"year_2021.csv\")[[\"name\", \"description\"]].to_csv(\"year_2021_cut.csv\")\n",
    "#Если нету базы, выполни строчку выше и будет тебе счастье"
   ]
  },
  {
   "cell_type": "markdown",
   "id": "0fb33088",
   "metadata": {},
   "source": [
    "Оставляем колонки с названием вакансий и их описанием"
   ]
  },
  {
   "cell_type": "code",
   "execution_count": 3,
   "id": "7675b15d",
   "metadata": {},
   "outputs": [
    {
     "data": {
      "text/html": [
       "<div>\n",
       "<style scoped>\n",
       "    .dataframe tbody tr th:only-of-type {\n",
       "        vertical-align: middle;\n",
       "    }\n",
       "\n",
       "    .dataframe tbody tr th {\n",
       "        vertical-align: top;\n",
       "    }\n",
       "\n",
       "    .dataframe thead th {\n",
       "        text-align: right;\n",
       "    }\n",
       "</style>\n",
       "<table border=\"1\" class=\"dataframe\">\n",
       "  <thead>\n",
       "    <tr style=\"text-align: right;\">\n",
       "      <th></th>\n",
       "      <th>name</th>\n",
       "      <th>description</th>\n",
       "    </tr>\n",
       "  </thead>\n",
       "  <tbody>\n",
       "    <tr>\n",
       "      <th>0</th>\n",
       "      <td>PHP Веб-разработчик Bitrix24</td>\n",
       "      <td>&lt;p&gt;&lt;strong&gt;Факт &lt;/strong&gt;- лидер рынка веб-инт...</td>\n",
       "    </tr>\n",
       "    <tr>\n",
       "      <th>1</th>\n",
       "      <td>Инженер-программист</td>\n",
       "      <td>&lt;strong&gt;Обязанности:&lt;/strong&gt; &lt;ul&gt; &lt;li&gt;Выполне...</td>\n",
       "    </tr>\n",
       "    <tr>\n",
       "      <th>2</th>\n",
       "      <td>Ведущий специалист (Отдел технического обслужи...</td>\n",
       "      <td>&lt;strong&gt;Обязанности:&lt;/strong&gt; &lt;ul&gt; &lt;li&gt;Монитор...</td>\n",
       "    </tr>\n",
       "    <tr>\n",
       "      <th>3</th>\n",
       "      <td>Разработчик ETL</td>\n",
       "      <td>&lt;p&gt;Компания «Сбербанк», блок Технологии, сейча...</td>\n",
       "    </tr>\n",
       "    <tr>\n",
       "      <th>4</th>\n",
       "      <td>PHP разработчик / PHP Developer (удаленно)</td>\n",
       "      <td>&lt;p&gt;С 2005 года наша команда занимается цифрово...</td>\n",
       "    </tr>\n",
       "    <tr>\n",
       "      <th>...</th>\n",
       "      <td>...</td>\n",
       "      <td>...</td>\n",
       "    </tr>\n",
       "    <tr>\n",
       "      <th>229090</th>\n",
       "      <td>Аналитик CRM системы</td>\n",
       "      <td>&lt;strong&gt;Обязанности:&lt;/strong&gt; &lt;ul&gt; &lt;li&gt; &lt;p&gt;Уча...</td>\n",
       "    </tr>\n",
       "    <tr>\n",
       "      <th>229091</th>\n",
       "      <td>Руководитель интернет-магазина (e-commerce, fa...</td>\n",
       "      <td>&lt;p&gt;Наконец-то, мы запускаем полноценный интерн...</td>\n",
       "    </tr>\n",
       "    <tr>\n",
       "      <th>229092</th>\n",
       "      <td>Оператор технической поддержки</td>\n",
       "      <td>&lt;strong&gt;Обязанности:&lt;/strong&gt; &lt;p&gt;-Анализ техни...</td>\n",
       "    </tr>\n",
       "    <tr>\n",
       "      <th>229093</th>\n",
       "      <td>Инсталлятор</td>\n",
       "      <td>&lt;strong&gt;Обязанности:&lt;/strong&gt; &lt;ul&gt; &lt;li&gt;подключ...</td>\n",
       "    </tr>\n",
       "    <tr>\n",
       "      <th>229094</th>\n",
       "      <td>ИТ ДИРЕКТОР ( Логистический стартап федерально...</td>\n",
       "      <td>&lt;p&gt; &lt;/p&gt; &lt;p&gt;&lt;strong&gt;Вакансия ИТ Директор&lt;/stro...</td>\n",
       "    </tr>\n",
       "  </tbody>\n",
       "</table>\n",
       "<p>229095 rows × 2 columns</p>\n",
       "</div>"
      ],
      "text/plain": [
       "                                                     name  \\\n",
       "0                            PHP Веб-разработчик Bitrix24   \n",
       "1                                     Инженер-программист   \n",
       "2       Ведущий специалист (Отдел технического обслужи...   \n",
       "3                                         Разработчик ETL   \n",
       "4              PHP разработчик / PHP Developer (удаленно)   \n",
       "...                                                   ...   \n",
       "229090                               Аналитик CRM системы   \n",
       "229091  Руководитель интернет-магазина (e-commerce, fa...   \n",
       "229092                     Оператор технической поддержки   \n",
       "229093                                        Инсталлятор   \n",
       "229094  ИТ ДИРЕКТОР ( Логистический стартап федерально...   \n",
       "\n",
       "                                              description  \n",
       "0       <p><strong>Факт </strong>- лидер рынка веб-инт...  \n",
       "1       <strong>Обязанности:</strong> <ul> <li>Выполне...  \n",
       "2       <strong>Обязанности:</strong> <ul> <li>Монитор...  \n",
       "3       <p>Компания «Сбербанк», блок Технологии, сейча...  \n",
       "4       <p>С 2005 года наша команда занимается цифрово...  \n",
       "...                                                   ...  \n",
       "229090  <strong>Обязанности:</strong> <ul> <li> <p>Уча...  \n",
       "229091  <p>Наконец-то, мы запускаем полноценный интерн...  \n",
       "229092  <strong>Обязанности:</strong> <p>-Анализ техни...  \n",
       "229093  <strong>Обязанности:</strong> <ul> <li>подключ...  \n",
       "229094  <p> </p> <p><strong>Вакансия ИТ Директор</stro...  \n",
       "\n",
       "[229095 rows x 2 columns]"
      ]
     },
     "execution_count": 3,
     "metadata": {},
     "output_type": "execute_result"
    }
   ],
   "source": [
    "data = df[[\"name\", \"description\"]]\n",
    "data"
   ]
  },
  {
   "cell_type": "markdown",
   "id": "2d0ceb37",
   "metadata": {},
   "source": [
    "Код, обрабатывающий базу за определенный год, путем поиска совпадений в базе синонимов"
   ]
  },
  {
   "cell_type": "code",
   "execution_count": 8,
   "id": "4249fa3f",
   "metadata": {},
   "outputs": [
    {
     "name": "stdout",
     "output_type": "stream",
     "text": [
      "['Базы данных 120891\\n', 'HTML 23264\\n', 'CSS 20522\\n', 'JavaScript 62099\\n', 'Apple 4740\\n', 'Бизнес-логика 3298\\n', 'Контроль версий 52527\\n', 'PHP 22974\\n', 'Basic 1105\\n', 'Java 41569\\n', 'C++ 217152\\n', 'C# 20236\\n', 'Python 32690\\n', 'Конвертация 16398\\n', 'Мобилки 6412\\n', 'Пакеты Office 4882\\n', 'Go 33884\\n', 'Управление проектами 28133\\n', '1C 4411\\n', 'API-Архитектура 51980\\n', 'Языки 32132\\n', 'Аналитика 4594\\n', 'Операционные системы 65862\\n', 'Дизайн 71443\\n', 'Тестирование 370\\n', 'Языки разметки 12329\\n', 'CRM 6138\\n', 'Облачные платформы 11943\\n']\n",
      "[120891, 23264, 20522, 62099, 4740, 3298, 52527, 22974, 1105, 41569, 217152, 20236, 32690, 16398, 6412, 4882, 33884, 28133, 4411, 51980, 32132, 4594, 65862, 71443, 370, 12329, 6138, 11943]\n"
     ]
    }
   ],
   "source": [
    "value = []\n",
    "value_counter = []\n",
    "data = literal_eval(open(\"tools_synonims.txt\", \"r\", encoding='utf-8').read())\n",
    "for key in data.keys():\n",
    "    counter = 0\n",
    "    with open(\"year_2021_cut.csv\", encoding='utf-8') as r_file:\n",
    "        for row in csv.reader(r_file):\n",
    "            for i in data.get(key):\n",
    "                for j in row:\n",
    "                    if i.lower() in j.lower():\n",
    "                        counter += 1\n",
    "    value.append(f'{key} {counter}')\n",
    "    value_counter.append(counter)\n",
    "print(value)\n",
    "print(value_counter)\n",
    "#Надо проверить корректность кода"
   ]
  },
  {
   "cell_type": "code",
   "execution_count": null,
   "id": "2a19526b",
   "metadata": {},
   "outputs": [],
   "source": []
  }
 ],
 "metadata": {
  "kernelspec": {
   "display_name": "Python 3",
   "language": "python",
   "name": "python3"
  },
  "language_info": {
   "codemirror_mode": {
    "name": "ipython",
    "version": 3
   },
   "file_extension": ".py",
   "mimetype": "text/x-python",
   "name": "python",
   "nbconvert_exporter": "python",
   "pygments_lexer": "ipython3",
   "version": "3.8.8"
  }
 },
 "nbformat": 4,
 "nbformat_minor": 5
}
