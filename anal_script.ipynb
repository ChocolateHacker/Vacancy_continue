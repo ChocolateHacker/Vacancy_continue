{
 "cells": [
  {
   "cell_type": "code",
   "execution_count": 2,
   "id": "e06fbd27",
   "metadata": {},
   "outputs": [],
   "source": [
    "import pandas"
   ]
  },
  {
   "cell_type": "code",
   "execution_count": 3,
   "id": "be7908f1",
   "metadata": {},
   "outputs": [
    {
     "name": "stderr",
     "output_type": "stream",
     "text": [
      "C:\\Users\\BoilingMachine\\anaconda3\\lib\\site-packages\\IPython\\core\\interactiveshell.py:3165: DtypeWarning: Columns (27) have mixed types.Specify dtype option on import or set low_memory=False.\n",
      "  has_raised = await self.run_ast_nodes(code_ast.body, cell_name,\n"
     ]
    }
   ],
   "source": [
    "df = pandas.read_csv(\"year_2021.csv\")\n",
    "#df = pandas.read_csv(\"year_2021.csv\")[[\"name\", \"description\"]].to_csv(\"year_2021_cut.csv\")\n",
    "#Если нету базы, выполни строчку выше и будет тебе счастье"
   ]
  },
  {
   "cell_type": "code",
   "execution_count": 10,
   "id": "7675b15d",
   "metadata": {},
   "outputs": [
    {
     "data": {
      "text/html": [
       "<div>\n",
       "<style scoped>\n",
       "    .dataframe tbody tr th:only-of-type {\n",
       "        vertical-align: middle;\n",
       "    }\n",
       "\n",
       "    .dataframe tbody tr th {\n",
       "        vertical-align: top;\n",
       "    }\n",
       "\n",
       "    .dataframe thead th {\n",
       "        text-align: right;\n",
       "    }\n",
       "</style>\n",
       "<table border=\"1\" class=\"dataframe\">\n",
       "  <thead>\n",
       "    <tr style=\"text-align: right;\">\n",
       "      <th></th>\n",
       "      <th>name</th>\n",
       "      <th>description</th>\n",
       "    </tr>\n",
       "  </thead>\n",
       "  <tbody>\n",
       "    <tr>\n",
       "      <th>0</th>\n",
       "      <td>PHP Веб-разработчик Bitrix24</td>\n",
       "      <td>&lt;p&gt;&lt;strong&gt;Факт &lt;/strong&gt;- лидер рынка веб-инт...</td>\n",
       "    </tr>\n",
       "    <tr>\n",
       "      <th>1</th>\n",
       "      <td>Инженер-программист</td>\n",
       "      <td>&lt;strong&gt;Обязанности:&lt;/strong&gt; &lt;ul&gt; &lt;li&gt;Выполне...</td>\n",
       "    </tr>\n",
       "    <tr>\n",
       "      <th>2</th>\n",
       "      <td>Ведущий специалист (Отдел технического обслужи...</td>\n",
       "      <td>&lt;strong&gt;Обязанности:&lt;/strong&gt; &lt;ul&gt; &lt;li&gt;Монитор...</td>\n",
       "    </tr>\n",
       "    <tr>\n",
       "      <th>3</th>\n",
       "      <td>Разработчик ETL</td>\n",
       "      <td>&lt;p&gt;Компания «Сбербанк», блок Технологии, сейча...</td>\n",
       "    </tr>\n",
       "    <tr>\n",
       "      <th>4</th>\n",
       "      <td>PHP разработчик / PHP Developer (удаленно)</td>\n",
       "      <td>&lt;p&gt;С 2005 года наша команда занимается цифрово...</td>\n",
       "    </tr>\n",
       "    <tr>\n",
       "      <th>...</th>\n",
       "      <td>...</td>\n",
       "      <td>...</td>\n",
       "    </tr>\n",
       "    <tr>\n",
       "      <th>229090</th>\n",
       "      <td>Аналитик CRM системы</td>\n",
       "      <td>&lt;strong&gt;Обязанности:&lt;/strong&gt; &lt;ul&gt; &lt;li&gt; &lt;p&gt;Уча...</td>\n",
       "    </tr>\n",
       "    <tr>\n",
       "      <th>229091</th>\n",
       "      <td>Руководитель интернет-магазина (e-commerce, fa...</td>\n",
       "      <td>&lt;p&gt;Наконец-то, мы запускаем полноценный интерн...</td>\n",
       "    </tr>\n",
       "    <tr>\n",
       "      <th>229092</th>\n",
       "      <td>Оператор технической поддержки</td>\n",
       "      <td>&lt;strong&gt;Обязанности:&lt;/strong&gt; &lt;p&gt;-Анализ техни...</td>\n",
       "    </tr>\n",
       "    <tr>\n",
       "      <th>229093</th>\n",
       "      <td>Инсталлятор</td>\n",
       "      <td>&lt;strong&gt;Обязанности:&lt;/strong&gt; &lt;ul&gt; &lt;li&gt;подключ...</td>\n",
       "    </tr>\n",
       "    <tr>\n",
       "      <th>229094</th>\n",
       "      <td>ИТ ДИРЕКТОР ( Логистический стартап федерально...</td>\n",
       "      <td>&lt;p&gt; &lt;/p&gt; &lt;p&gt;&lt;strong&gt;Вакансия ИТ Директор&lt;/stro...</td>\n",
       "    </tr>\n",
       "  </tbody>\n",
       "</table>\n",
       "<p>229095 rows × 2 columns</p>\n",
       "</div>"
      ],
      "text/plain": [
       "                                                     name  \\\n",
       "0                            PHP Веб-разработчик Bitrix24   \n",
       "1                                     Инженер-программист   \n",
       "2       Ведущий специалист (Отдел технического обслужи...   \n",
       "3                                         Разработчик ETL   \n",
       "4              PHP разработчик / PHP Developer (удаленно)   \n",
       "...                                                   ...   \n",
       "229090                               Аналитик CRM системы   \n",
       "229091  Руководитель интернет-магазина (e-commerce, fa...   \n",
       "229092                     Оператор технической поддержки   \n",
       "229093                                        Инсталлятор   \n",
       "229094  ИТ ДИРЕКТОР ( Логистический стартап федерально...   \n",
       "\n",
       "                                              description  \n",
       "0       <p><strong>Факт </strong>- лидер рынка веб-инт...  \n",
       "1       <strong>Обязанности:</strong> <ul> <li>Выполне...  \n",
       "2       <strong>Обязанности:</strong> <ul> <li>Монитор...  \n",
       "3       <p>Компания «Сбербанк», блок Технологии, сейча...  \n",
       "4       <p>С 2005 года наша команда занимается цифрово...  \n",
       "...                                                   ...  \n",
       "229090  <strong>Обязанности:</strong> <ul> <li> <p>Уча...  \n",
       "229091  <p>Наконец-то, мы запускаем полноценный интерн...  \n",
       "229092  <strong>Обязанности:</strong> <p>-Анализ техни...  \n",
       "229093  <strong>Обязанности:</strong> <ul> <li>подключ...  \n",
       "229094  <p> </p> <p><strong>Вакансия ИТ Директор</stro...  \n",
       "\n",
       "[229095 rows x 2 columns]"
      ]
     },
     "execution_count": 10,
     "metadata": {},
     "output_type": "execute_result"
    }
   ],
   "source": [
    "data = df[[\"name\", \"description\"]]\n",
    "data"
   ]
  },
  {
   "cell_type": "code",
   "execution_count": 5,
   "id": "26aac292",
   "metadata": {},
   "outputs": [],
   "source": [
    "import csv\n",
    "from ast import literal_eval"
   ]
  },
  {
   "cell_type": "code",
   "execution_count": 8,
   "id": "4249fa3f",
   "metadata": {},
   "outputs": [
    {
     "name": "stdout",
     "output_type": "stream",
     "text": [
      "['Базы данных 3780', 'Ахмет 3', 'JavaScript 20983', 'HTML и CSS 9648']\n",
      "[3780, 3, 20983, 9648]\n"
     ]
    }
   ],
   "source": [
    "value = []\n",
    "value_counter = []\n",
    "data = literal_eval(open(\"synonims.txt\", \"r\", encoding='utf-8').read())\n",
    "for key in data.keys():\n",
    "    counter = 0\n",
    "    with open(\"year_2021_cut.csv\", encoding='utf-8') as r_file:\n",
    "        for row in csv.reader(r_file):\n",
    "            if len(row) == 0:\n",
    "                continue\n",
    "            for i in data.get(key):\n",
    "                for j in row:\n",
    "                    if i.lower() in j.lower():\n",
    "                        counter += 1\n",
    "    value.append(f'{key} {counter}')\n",
    "    value_counter.append(counter)\n",
    "print(value)\n",
    "print(value_counter)\n",
    "#Надо проверить корректность кода"
   ]
  },
  {
   "cell_type": "code",
   "execution_count": null,
   "id": "2a19526b",
   "metadata": {},
   "outputs": [],
   "source": []
  }
 ],
 "metadata": {
  "kernelspec": {
   "display_name": "Python 3",
   "language": "python",
   "name": "python3"
  },
  "language_info": {
   "codemirror_mode": {
    "name": "ipython",
    "version": 3
   },
   "file_extension": ".py",
   "mimetype": "text/x-python",
   "name": "python",
   "nbconvert_exporter": "python",
   "pygments_lexer": "ipython3",
   "version": "3.8.8"
  }
 },
 "nbformat": 4,
 "nbformat_minor": 5
}
